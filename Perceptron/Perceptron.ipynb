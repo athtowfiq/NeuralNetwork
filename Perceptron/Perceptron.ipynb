{
  "nbformat": 4,
  "nbformat_minor": 0,
  "metadata": {
    "colab": {
      "name": "Perceptron.ipynb",
      "provenance": [],
      "toc_visible": true,
      "authorship_tag": "ABX9TyPEMK7dYH2boz+xbQxAcatJ",
      "include_colab_link": true
    },
    "kernelspec": {
      "name": "python3",
      "display_name": "Python 3"
    },
    "language_info": {
      "name": "python"
    }
  },
  "cells": [
    {
      "cell_type": "markdown",
      "metadata": {
        "id": "view-in-github",
        "colab_type": "text"
      },
      "source": [
        "<a href=\"https://colab.research.google.com/github/athtowfiq/NeuralNetwork/blob/main/Perceptron/Perceptron.ipynb\" target=\"_parent\"><img src=\"https://colab.research.google.com/assets/colab-badge.svg\" alt=\"Open In Colab\"/></a>"
      ]
    },
    {
      "cell_type": "markdown",
      "metadata": {
        "id": "DuRyAsbTJVkT"
      },
      "source": [
        "**Perceptron Question 1**"
      ]
    },
    {
      "cell_type": "code",
      "metadata": {
        "colab": {
          "base_uri": "https://localhost:8080/"
        },
        "id": "92qmFIPO7lOj",
        "outputId": "6213d948-00e0-43df-ff54-3af2fb0d48b7"
      },
      "source": [
        "from google.colab import drive\n",
        "drive.mount('/content/drive')"
      ],
      "execution_count": null,
      "outputs": [
        {
          "output_type": "stream",
          "name": "stdout",
          "text": [
            "Mounted at /content/drive\n"
          ]
        }
      ]
    },
    {
      "cell_type": "code",
      "metadata": {
        "colab": {
          "base_uri": "https://localhost:8080/"
        },
        "id": "pd0YO5D_8kLR",
        "outputId": "54bf5392-d52d-439c-fe62-86f274eebae2"
      },
      "source": [
        "import matplotlib.pyplot as plt\n",
        "import numpy as np\n",
        "import pandas as pd\n",
        "import random\n",
        "random.seed(100)\n",
        "\n",
        "df = pd.read_csv('/content/drive/MyDrive/Perceptron/train.txt', sep=' ', header=None)\n",
        "df = df.values\n",
        "df"
      ],
      "execution_count": null,
      "outputs": [
        {
          "output_type": "execute_result",
          "data": {
            "text/plain": [
              "array([[ 1. ,  1. ,  1. ],\n",
              "       [ 1. , -1. ,  1. ],\n",
              "       [ 4. ,  5. ,  1. ],\n",
              "       [ 2. ,  2.5,  2. ],\n",
              "       [ 0. ,  2. ,  2. ],\n",
              "       [ 2. ,  3. ,  2. ]])"
            ]
          },
          "metadata": {},
          "execution_count": 29
        }
      ]
    },
    {
      "cell_type": "code",
      "metadata": {
        "colab": {
          "base_uri": "https://localhost:8080/",
          "height": 265
        },
        "id": "y0bXM_ZbBJZ3",
        "outputId": "f293f790-4127-4e7a-a4e9-cbe6108e9e67"
      },
      "source": [
        "for data in df:\n",
        "    if data[2] == 1:\n",
        "        plt.scatter(data[0], data[1], marker='*', color='red')\n",
        "    else:\n",
        "        plt.scatter(data[0], data[1], marker='+', color='blue')\n",
        "plt.show()"
      ],
      "execution_count": null,
      "outputs": [
        {
          "output_type": "display_data",
          "data": {
            "image/png": "[encoded data removed]",
            "text/plain": [
              "<Figure size 432x288 with 1 Axes>"
            ]
          },
          "metadata": {
            "needs_background": "light"
          }
        }
      ]
    },
    {
      "cell_type": "markdown",
      "metadata": {
        "id": "I5TCjVXzJowB"
      },
      "source": [
        "**Perceptron Question 2**"
      ]
    },
    {
      "cell_type": "code",
      "metadata": {
        "colab": {
          "base_uri": "https://localhost:8080/"
        },
        "id": "EaOsKG9jEQtd",
        "outputId": "4bfd06f8-0834-4706-f8b9-941f2cdbb48a"
      },
      "source": [
        "list = []\n",
        "\n",
        "for x1, x2, label in df:\n",
        "    l = []\n",
        "    l.append(x1 * x1);\n",
        "    l.append(x2 * x2);\n",
        "    l.append(x1 * x2);\n",
        "    l.append(x1);\n",
        "    l.append(x2);\n",
        "    l.append(1);\n",
        "    l.append(label);\n",
        "    list.append(l)\n",
        "a = np.array(list)\n",
        "print(a)"
      ],
      "execution_count": null,
      "outputs": [
        {
          "output_type": "stream",
          "name": "stdout",
          "text": [
            "[[ 1.    1.    1.    1.    1.    1.    1.  ]\n",
            " [ 1.    1.   -1.    1.   -1.    1.    1.  ]\n",
            " [16.   25.   20.    4.    5.    1.    1.  ]\n",
            " [ 4.    6.25  5.    2.    2.5   1.    2.  ]\n",
            " [ 0.    4.    0.    0.    2.    1.    2.  ]\n",
            " [ 4.    9.    6.    2.    3.    1.    2.  ]]\n"
          ]
        }
      ]
    },
    {
      "cell_type": "code",
      "metadata": {
        "colab": {
          "base_uri": "https://localhost:8080/"
        },
        "id": "AcfVtWTKF5Cl",
        "outputId": "da2947bb-5ba8-468d-f210-eb79401f7b14"
      },
      "source": [
        "list = []\n",
        "for data in a:\n",
        "    if data[6] == 2:\n",
        "        data = np.multiply(data, -1)\n",
        "        list.append(data)\n",
        "    else:\n",
        "        list.append(data)\n",
        "\n",
        "a = np.array(list)\n",
        "a"
      ],
      "execution_count": null,
      "outputs": [
        {
          "output_type": "execute_result",
          "data": {
            "text/plain": [
              "array([[ 1.  ,  1.  ,  1.  ,  1.  ,  1.  ,  1.  ,  1.  ],\n",
              "       [ 1.  ,  1.  , -1.  ,  1.  , -1.  ,  1.  ,  1.  ],\n",
              "       [16.  , 25.  , 20.  ,  4.  ,  5.  ,  1.  ,  1.  ],\n",
              "       [-4.  , -6.25, -5.  , -2.  , -2.5 , -1.  , -2.  ],\n",
              "       [-0.  , -4.  , -0.  , -0.  , -2.  , -1.  , -2.  ],\n",
              "       [-4.  , -9.  , -6.  , -2.  , -3.  , -1.  , -2.  ]])"
            ]
          },
          "metadata": {},
          "execution_count": 35
        }
      ]
    },
    {
      "cell_type": "code",
      "metadata": {
        "colab": {
          "base_uri": "https://localhost:8080/"
        },
        "id": "Cm863bkkHQzU",
        "outputId": "76ab28a4-17fa-4fe9-8c66-479f22aa4916"
      },
      "source": [
        "a = a[:, 0:6]\n",
        "\n",
        "#print(a)\n",
        "\n",
        "alphas = np.array([0.1, 0.2, 0.3, 0.4, 0.5, 0.6, 0.7, 0.8, 0.9, 1]);\n",
        "manyItcount = []\n",
        "oneItcount = []\n",
        "\n",
        "for alpha in alphas:\n",
        "    w = np.ones(6);\n",
        "    #print(w)\n",
        "    sum = np.zeros(6);"
      ],
      "execution_count": null,
      "outputs": [
        {
          "output_type": "stream",
          "name": "stdout",
          "text": [
            "[0. 0. 0. 0. 0. 0.]\n",
            "[0. 0. 0. 0. 0. 0.]\n",
            "[0. 0. 0. 0. 0. 0.]\n",
            "[0. 0. 0. 0. 0. 0.]\n",
            "[0. 0. 0. 0. 0. 0.]\n",
            "[0. 0. 0. 0. 0. 0.]\n",
            "[0. 0. 0. 0. 0. 0.]\n",
            "[0. 0. 0. 0. 0. 0.]\n",
            "[0. 0. 0. 0. 0. 0.]\n",
            "[0. 0. 0. 0. 0. 0.]\n"
          ]
        }
      ]
    },
    {
      "cell_type": "markdown",
      "metadata": {
        "id": "_SnK8aXKJxfp"
      },
      "source": [
        "**Rest of the Question**"
      ]
    },
    {
      "cell_type": "code",
      "metadata": {
        "colab": {
          "base_uri": "https://localhost:8080/",
          "height": 1000
        },
        "id": "-3a6eh607KzW",
        "outputId": "a45250c9-b989-49b6-d414-18052ea8acd1"
      },
      "source": [
        "a = a[:, 0:6]\n",
        "\n",
        "print(a)\n",
        "\n",
        "alphas = np.array([0.1, 0.2, 0.3, 0.4, 0.5, 0.6, 0.7, 0.8, 0.9, 1]);\n",
        "manyItcount = []\n",
        "oneItcount = []\n",
        "\n",
        "for alpha in alphas:\n",
        "    w = np.ones(6);\n",
        "    # print(w)\n",
        "    sum = np.zeros(6);\n",
        "\n",
        "    for i in range(500):\n",
        "        flag = 0;\n",
        "        for y in a:\n",
        "            val = np.dot(y, w)\n",
        "            if val <= 0:\n",
        "                flag = 1;\n",
        "                sum = np.add(y, sum)\n",
        "\n",
        "        w = w + sum * alpha\n",
        "        if flag == 0:\n",
        "            break;\n",
        "\n",
        "    manyItcount.append(i + 1)\n",
        "\n",
        "for alpha in alphas:\n",
        "    w = np.ones(6);\n",
        "    # print(w)\n",
        "\n",
        "    for i in range(500):\n",
        "        flag = 0;\n",
        "        for y in a:\n",
        "            val = np.dot(y, w)\n",
        "            if val <= 0:\n",
        "                flag = 1;\n",
        "                w = w + alpha * y\n",
        "\n",
        "        if flag == 0:\n",
        "            break;\n",
        "\n",
        "    oneItcount.append(i + 1)\n",
        "\n",
        "# print(oneItcount)\n",
        "\n",
        "print('Initial Weight vector all one: ')\n",
        "print('Alpha\\tOne At a Time\\tMany at a time')\n",
        "\n",
        "for i in range(len(alphas)):\n",
        "    print(alphas[i], '\\t\\t', oneItcount[i], '\\t', manyItcount[i])\n",
        "\n",
        "manyItcount = []\n",
        "oneItcount = []\n",
        "\n",
        "for alpha in alphas:\n",
        "    w = np.zeros(6);\n",
        "    # print(w)\n",
        "    sum = np.zeros(6);\n",
        "\n",
        "    for i in range(500):\n",
        "        flag = 0;\n",
        "        for y in a:\n",
        "            val = np.dot(y, w)\n",
        "            if val <= 0:\n",
        "                flag = 1;\n",
        "                sum = np.add(y, sum)\n",
        "\n",
        "        w = w + sum * alpha\n",
        "        if flag == 0:\n",
        "            break;\n",
        "\n",
        "    manyItcount.append(i + 1)\n",
        "\n",
        "for alpha in alphas:\n",
        "    w = np.zeros(6);\n",
        "    # print(w)\n",
        "\n",
        "    for i in range(500):\n",
        "        flag = 0;\n",
        "        for y in a:\n",
        "            val = np.dot(y, w)\n",
        "            if val <= 0:\n",
        "                flag = 1;\n",
        "                w = w + alpha * y\n",
        "\n",
        "        if flag == 0:\n",
        "            break;\n",
        "\n",
        "    oneItcount.append(i + 1)\n",
        "\n",
        "# print(oneItcount)\n",
        "\n",
        "print('Initial Weight vector all zero: ')\n",
        "\n",
        "print('Alpha\\tOne At a Time\\tMany at a time')\n",
        "\n",
        "for i in range(len(alphas)):\n",
        "    print(alphas[i], '\\t\\t', oneItcount[i], '\\t', manyItcount[i])\n",
        "\n",
        "manyItcount = []\n",
        "oneItcount = []\n",
        "\n",
        "for alpha in alphas:\n",
        "    w = random.sample(range(100), 6);\n",
        "    w = np.array(w)\n",
        "    # print(w)\n",
        "    sum = np.zeros(6);\n",
        "\n",
        "    for i in range(500):\n",
        "        flag = 0;\n",
        "        for y in a:\n",
        "            val = np.dot(y, w)\n",
        "            if val <= 0:\n",
        "                flag = 1;\n",
        "                sum = np.add(y, sum)\n",
        "\n",
        "        w = w + sum * alpha\n",
        "        if flag == 0:\n",
        "            break;\n",
        "\n",
        "    manyItcount.append(i + 1)\n",
        "\n",
        "for alpha in alphas:\n",
        "    w = random.sample(range(100), 6);\n",
        "    w = np.array(w)\n",
        "    # print(w)\n",
        "\n",
        "    for i in range(500):\n",
        "        flag = 0;\n",
        "        for y in a:\n",
        "            val = np.dot(y, w)\n",
        "            if val <= 0:\n",
        "                flag = 1;\n",
        "                w = w + alpha * y\n",
        "\n",
        "        if flag == 0:\n",
        "            break;\n",
        "\n",
        "    oneItcount.append(i + 1)\n",
        "\n",
        "# print(oneItcount)\n",
        "\n",
        "print('Initial Weight vector all random: ')\n",
        "\n",
        "print('Alpha\\tOne At a Time\\tMany at a time')\n",
        "\n",
        "for i in range(len(alphas)):\n",
        "    print(alphas[i], '\\t\\t', oneItcount[i], '\\t', manyItcount[i])\n",
        "\n",
        "\n",
        "for data in df:\n",
        "    if data[2] == 1:\n",
        "        plt.scatter(data[0], data[1], marker='*', color='red')\n",
        "    else:\n",
        "        plt.scatter(data[0], data[1], marker='+', color='blue')\n",
        "\n",
        "list = []\n",
        "\n",
        "for x1, x2, label in df:\n",
        "    l = []\n",
        "    l.append(x1 * x1);\n",
        "    l.append(x2 * x2);\n",
        "    l.append(x1 * x2);\n",
        "    l.append(x1);\n",
        "    l.append(x2);\n",
        "    l.append(1);\n",
        "    l.append(label);\n",
        "    list.append(l)\n",
        "\n",
        "a = np.array(list)\n",
        "print(a)\n",
        "list = []\n",
        "for data in a:\n",
        "    if data[6] == 2:\n",
        "        data = np.multiply(data, -1)\n",
        "        list.append(data)\n",
        "    else:\n",
        "        list.append(data)\n",
        "\n",
        "a = np.array(list)\n",
        "print(a)\n",
        "\n",
        "a = a[:, 0:6]\n",
        "\n",
        "print(a)\n",
        "\n",
        "alphas = np.array([0.1, 0.2, 0.3, 0.4, 0.5, 0.6, 0.7, 0.8, 0.9, 1]);\n",
        "manyItcount = []\n",
        "oneItcount = []\n",
        "\n",
        "for alpha in alphas:\n",
        "    w = np.ones(6);\n",
        "    # print(w)\n",
        "    sum = np.zeros(6);\n",
        "\n",
        "    for i in range(500):\n",
        "        flag = 0;\n",
        "        for y in a:\n",
        "            val = np.dot(y, w)\n",
        "            if val <= 0:\n",
        "                flag = 1;\n",
        "                sum = np.add(y, sum)\n",
        "\n",
        "        w = w + sum * alpha\n",
        "        if flag == 0:\n",
        "            break;\n",
        "\n",
        "    manyItcount.append(i + 1)\n",
        "\n",
        "for alpha in alphas:\n",
        "    w = np.ones(6);\n",
        "    # print(w)\n",
        "\n",
        "    for i in range(500):\n",
        "        flag = 0;\n",
        "        for y in a:\n",
        "            val = np.dot(y, w)\n",
        "            if val <= 0:\n",
        "                flag = 1;\n",
        "                w = w + alpha * y\n",
        "\n",
        "        if flag == 0:\n",
        "            break;\n",
        "\n",
        "    oneItcount.append(i + 1)\n",
        "\n",
        "# print(oneItcount)\n",
        "\n",
        "print('Initial Weight vector all one: ')\n",
        "print('Alpha\\tOne At a Time\\tMany at a time')\n",
        "\n",
        "for i in range(len(alphas)):\n",
        "    print(alphas[i], '\\t\\t', oneItcount[i], '\\t', manyItcount[i])\n",
        "\n",
        "manyItcount = []\n",
        "oneItcount = []\n",
        "\n",
        "for alpha in alphas:\n",
        "    w = np.zeros(6);\n",
        "    # print(w)\n",
        "    sum = np.zeros(6);\n",
        "\n",
        "    for i in range(500):\n",
        "        flag = 0;\n",
        "        for y in a:\n",
        "            val = np.dot(y, w)\n",
        "            if val <= 0:\n",
        "                flag = 1;\n",
        "                sum = np.add(y, sum)\n",
        "\n",
        "        w = w + sum * alpha\n",
        "        if flag == 0:\n",
        "            break;\n",
        "\n",
        "    manyItcount.append(i + 1)\n",
        "\n",
        "for alpha in alphas:\n",
        "    w = np.zeros(6);\n",
        "    # print(w)\n",
        "\n",
        "    for i in range(500):\n",
        "        flag = 0;\n",
        "        for y in a:\n",
        "            val = np.dot(y, w)\n",
        "            if val <= 0:\n",
        "                flag = 1;\n",
        "                w = w + alpha * y\n",
        "\n",
        "        if flag == 0:\n",
        "            break;\n",
        "\n",
        "    oneItcount.append(i + 1)\n",
        "\n",
        "# print(oneItcount)\n",
        "\n",
        "print('Initial Weight vector all zero: ')\n",
        "\n",
        "print('Alpha\\tOne At a Time\\tMany at a time')\n",
        "\n",
        "for i in range(len(alphas)):\n",
        "    print(alphas[i], '\\t\\t', oneItcount[i], '\\t', manyItcount[i])\n",
        "\n",
        "manyItcount = []\n",
        "oneItcount = []\n",
        "\n",
        "for alpha in alphas:\n",
        "    w = random.sample(range(100), 6);\n",
        "    w = np.array(w)\n",
        "    # print(w)\n",
        "    sum = np.zeros(6);\n",
        "\n",
        "    for i in range(500):\n",
        "        flag = 0;\n",
        "        for y in a:\n",
        "            val = np.dot(y, w)\n",
        "            if val <= 0:\n",
        "                flag = 1;\n",
        "                sum = np.add(y, sum)\n",
        "\n",
        "        w = w + sum * alpha\n",
        "        if flag == 0:\n",
        "            break;\n",
        "\n",
        "    manyItcount.append(i + 1)\n",
        "\n",
        "for alpha in alphas:\n",
        "    w = random.sample(range(100), 6);\n",
        "    w = np.array(w)\n",
        "    # print(w)\n",
        "\n",
        "    for i in range(500):\n",
        "        flag = 0;\n",
        "        for y in a:\n",
        "            val = np.dot(y, w)\n",
        "            if val <= 0:\n",
        "                flag = 1;\n",
        "                w = w + alpha * y\n",
        "\n",
        "        if flag == 0:\n",
        "            break;\n",
        "\n",
        "    oneItcount.append(i + 1)\n",
        "\n",
        "# print(oneItcount)\n",
        "\n",
        "print('Initial Weight vector all random: ')\n",
        "\n",
        "print('Alpha\\tOne At a Time\\tMany at a time')\n",
        "\n",
        "for i in range(len(alphas)):\n",
        "    print(alphas[i], '\\t\\t', oneItcount[i], '\\t', manyItcount[i])\n"
      ],
      "execution_count": null,
      "outputs": [
        {
          "output_type": "stream",
          "name": "stdout",
          "text": [
            "[[ 1.    1.    1.    1.    1.    1.    1.  ]\n",
            " [ 1.    1.   -1.    1.   -1.    1.    1.  ]\n",
            " [16.   25.   20.    4.    5.    1.    1.  ]\n",
            " [ 4.    6.25  5.    2.    2.5   1.    2.  ]\n",
            " [ 0.    4.    0.    0.    2.    1.    2.  ]\n",
            " [ 4.    9.    6.    2.    3.    1.    2.  ]]\n",
            "[[ 1.    1.    1.    1.    1.    1.    1.  ]\n",
            " [ 1.    1.   -1.    1.   -1.    1.    1.  ]\n",
            " [16.   25.   20.    4.    5.    1.    1.  ]\n",
            " [-4.   -6.25 -5.   -2.   -2.5  -1.   -2.  ]\n",
            " [-0.   -4.   -0.   -0.   -2.   -1.   -2.  ]\n",
            " [-4.   -9.   -6.   -2.   -3.   -1.   -2.  ]]\n",
            "[[ 1.    1.    1.    1.    1.    1.  ]\n",
            " [ 1.    1.   -1.    1.   -1.    1.  ]\n",
            " [16.   25.   20.    4.    5.    1.  ]\n",
            " [-4.   -6.25 -5.   -2.   -2.5  -1.  ]\n",
            " [-0.   -4.   -0.   -0.   -2.   -1.  ]\n",
            " [-4.   -9.   -6.   -2.   -3.   -1.  ]]\n",
            "Initial Weight vector all one: \n",
            "Alpha\tOne At a Time\tMany at a time\n",
            "0.1 \t\t 6 \t 84\n",
            "0.2 \t\t 92 \t 68\n",
            "0.3 \t\t 104 \t 92\n",
            "0.4 \t\t 106 \t 94\n",
            "0.5 \t\t 93 \t 74\n",
            "0.6 \t\t 93 \t 73\n",
            "0.7 \t\t 108 \t 73\n",
            "0.8 \t\t 115 \t 67\n",
            "0.9 \t\t 94 \t 67\n",
            "1.0 \t\t 94 \t 67\n",
            "Initial Weight vector all zero: \n",
            "Alpha\tOne At a Time\tMany at a time\n",
            "0.1 \t\t 94 \t 61\n",
            "0.2 \t\t 94 \t 61\n",
            "0.3 \t\t 94 \t 61\n",
            "0.4 \t\t 94 \t 61\n",
            "0.5 \t\t 94 \t 61\n",
            "0.6 \t\t 94 \t 61\n",
            "0.7 \t\t 94 \t 61\n",
            "0.8 \t\t 94 \t 61\n",
            "0.9 \t\t 94 \t 61\n",
            "1.0 \t\t 94 \t 61\n",
            "Initial Weight vector all random: \n",
            "Alpha\tOne At a Time\tMany at a time\n",
            "0.1 \t\t 267 \t 270\n",
            "0.2 \t\t 163 \t 245\n",
            "0.3 \t\t 147 \t 143\n",
            "0.4 \t\t 47 \t 180\n",
            "0.5 \t\t 50 \t 138\n",
            "0.6 \t\t 19 \t 109\n",
            "0.7 \t\t 99 \t 81\n",
            "0.8 \t\t 12 \t 92\n",
            "0.9 \t\t 22 \t 93\n",
            "1.0 \t\t 33 \t 111\n",
            "[[ 1.    1.    1.    1.    1.    1.    1.  ]\n",
            " [ 1.    1.   -1.    1.   -1.    1.    1.  ]\n",
            " [16.   25.   20.    4.    5.    1.    1.  ]\n",
            " [ 4.    6.25  5.    2.    2.5   1.    2.  ]\n",
            " [ 0.    4.    0.    0.    2.    1.    2.  ]\n",
            " [ 4.    9.    6.    2.    3.    1.    2.  ]]\n",
            "[[ 1.    1.    1.    1.    1.    1.    1.  ]\n",
            " [ 1.    1.   -1.    1.   -1.    1.    1.  ]\n",
            " [16.   25.   20.    4.    5.    1.    1.  ]\n",
            " [-4.   -6.25 -5.   -2.   -2.5  -1.   -2.  ]\n",
            " [-0.   -4.   -0.   -0.   -2.   -1.   -2.  ]\n",
            " [-4.   -9.   -6.   -2.   -3.   -1.   -2.  ]]\n",
            "[[ 1.    1.    1.    1.    1.    1.  ]\n",
            " [ 1.    1.   -1.    1.   -1.    1.  ]\n",
            " [16.   25.   20.    4.    5.    1.  ]\n",
            " [-4.   -6.25 -5.   -2.   -2.5  -1.  ]\n",
            " [-0.   -4.   -0.   -0.   -2.   -1.  ]\n",
            " [-4.   -9.   -6.   -2.   -3.   -1.  ]]\n",
            "Initial Weight vector all one: \n",
            "Alpha\tOne At a Time\tMany at a time\n",
            "0.1 \t\t 6 \t 84\n",
            "0.2 \t\t 92 \t 68\n",
            "0.3 \t\t 104 \t 92\n",
            "0.4 \t\t 106 \t 94\n",
            "0.5 \t\t 93 \t 74\n",
            "0.6 \t\t 93 \t 73\n",
            "0.7 \t\t 108 \t 73\n",
            "0.8 \t\t 115 \t 67\n",
            "0.9 \t\t 94 \t 67\n",
            "1.0 \t\t 94 \t 67\n",
            "Initial Weight vector all zero: \n",
            "Alpha\tOne At a Time\tMany at a time\n",
            "0.1 \t\t 94 \t 61\n",
            "0.2 \t\t 94 \t 61\n",
            "0.3 \t\t 94 \t 61\n",
            "0.4 \t\t 94 \t 61\n",
            "0.5 \t\t 94 \t 61\n",
            "0.6 \t\t 94 \t 61\n",
            "0.7 \t\t 94 \t 61\n",
            "0.8 \t\t 94 \t 61\n",
            "0.9 \t\t 94 \t 61\n",
            "1.0 \t\t 94 \t 61\n",
            "Initial Weight vector all random: \n",
            "Alpha\tOne At a Time\tMany at a time\n",
            "0.1 \t\t 379 \t 285\n",
            "0.2 \t\t 80 \t 135\n",
            "0.3 \t\t 203 \t 167\n",
            "0.4 \t\t 36 \t 105\n",
            "0.5 \t\t 45 \t 109\n",
            "0.6 \t\t 34 \t 108\n",
            "0.7 \t\t 55 \t 53\n",
            "0.8 \t\t 35 \t 142\n",
            "0.9 \t\t 40 \t 10\n",
            "1.0 \t\t 26 \t 102\n"
          ]
        },
        {
          "output_type": "display_data",
          "data": {
            "image/png": "[encoded data removed]",
            "text/plain": [
              "<Figure size 432x288 with 1 Axes>"
            ]
          },
          "metadata": {
            "needs_background": "light"
          }
        }
      ]
    }
  ]
}